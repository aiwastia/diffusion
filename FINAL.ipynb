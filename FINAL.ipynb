{
 "cells": [
  {
   "cell_type": "markdown",
   "metadata": {},
   "source": [
    "# <font color='red'>Prolifération de bactéries & irréversibilité de la diffusion</font>\n",
    "\n",
    "par Virginie Slagmolen & Aidan Wastiaux"
   ]
  },
  {
   "cell_type": "markdown",
   "metadata": {},
   "source": [
    "### <font color='green'>Table des matières</font>\n",
    "\n",
    "0. [INTRODUCTION](#INTRODUCTION)\n",
    "0. [PARTIE 1](#PARTIE-1)\n",
    "    + [1.1 L'équation](#1.1-L'équation)\n",
    "    + [1.2 La discrétisation](#1.2-La-discrétisation)\n",
    "    + [1.3 La condition de stabilité](#1.3-La-condition-de-stabilité)\n",
    "    + [1.4 Les conditions aux bords](#1.4-Les-conditions-aux-bords)\n",
    "    + [1.5 Les paramètres de prolifération](#1.5-Les-paramètres-de-prolifération)\n",
    "    + [1.6 La fonction de diffusion](#1.6-La-fonction-de-diffusion)\n",
    "    + [1.7 Les résultats](#1.7-Les-résultats)\n",
    "0. [PARTIE 2](#PARTIE-2)\n",
    "    + [2.1 En remontant le traffic...](#2.1-En-remontant-le-traffic...)\n",
    "    + [2.2 La diffusion inverse](#2.2-La-diffusion-inverse)\n",
    "0. [PARTIE 3](#PARTIE-3)\n",
    "0. [CONCULSION](#CONCLUSION)"
   ]
  },
  {
   "cell_type": "markdown",
   "metadata": {},
   "source": [
    "## INTRODUCTION"
   ]
  },
  {
   "cell_type": "markdown",
   "metadata": {},
   "source": [
    "Le phénomène de diffusion est historiquement très important car il a été mis pour la première fois en équation par Fourier dans son traité \"Théorie analytique de la chaleur\" au début du XIXe siècle. L'équation permet de décrire l'évolution de la température partout dans un milieu, via le flux de chaleur depuis une source.\n",
    "\n",
    "\\begin{equation}\n",
    "\\frac{\\partial T}{\\partial t}=\\alpha\\nabla^2T \\; \\text{ où $\\nabla^2=\\frac{\\partial^2}{\\partial x^2}+\\frac{\\partial^2}{\\partial y^2}+\\frac{\\partial^2}{\\partial z^2}$}\n",
    "\\end{equation}\n",
    "\n",
    " avec $\\alpha \\geq 0$ , le coefficient de diffusion.\n",
    "\n",
    "Il s'agit d'une équation parabolique, du premier ordre dans le temps, et à cause de cela, elle n'est pas symétrique par renversement du temps. Ce constat est d'une importance cruciale puisque la plus grande partie des équations de la physique sont invariantes par le changement de variable $t \\mapsto -t$.\n",
    "\n",
    "L'équation de la chaleur est l'un des fondements de la thermodynamique puisqu'elle appuie mathématiquement le second principe sur la non-décroissance de l'entropie de l'univers. La flèche du temps associée au principe est liée au fait que la diffusion \"inverse\" de la chaleur ne permet pas de retourner aux conditions initiales de température.\n",
    "\n",
    "Et tout problème diffusif, régi par une équation parabolique du type\n",
    "\n",
    "\\begin{equation}\n",
    "\\frac{\\partial f(x,t)}{\\partial t}=C \\frac{\\partial^2 f(x,t)}{\\partial x^2}\n",
    "\\end{equation}\n",
    "\n",
    "subit cette irréversibilité. Nous [l'observerons](#PARTIE-2) dans notre cas de prolifération bactérienne.\n",
    "\n",
    "Un problème majeur ici va être de différencier la diffusion numérique de la diffusion physique du phénomène en cause."
   ]
  },
  {
   "cell_type": "markdown",
   "metadata": {},
   "source": [
    "[retour à la table des matières](#Table-des-matières)"
   ]
  },
  {
   "cell_type": "markdown",
   "metadata": {},
   "source": [
    "# PARTIE 1"
   ]
  },
  {
   "cell_type": "markdown",
   "metadata": {},
   "source": [
    "## 1.1 L'équation"
   ]
  },
  {
   "cell_type": "markdown",
   "metadata": {},
   "source": [
    "Notre problème est établi à partir de ces deux équations aux dérivées partielles sur les concentrations $u$ et $v$ des espèces $U$ et $V$ respectivement.\n",
    "\n",
    "\\begin{align}\n",
    "\\frac{\\partial u}{\\partial t} &= D_u \\nabla ^2 u - uv^2 + F(1-u)\\\\\n",
    "\\frac{\\partial v}{\\partial t} &= D_v \\nabla ^2 v + uv^2 - (F + k)v\n",
    "\\end{align}\n",
    "\n",
    "Les deux espèces chimiques diffusant dans l'espace selon leurs propres taux,  c'est-à-dire avec les coefficients de diffusion $D_u$ et $D_v$.\n",
    "\n",
    "La réaction se produisant en présence des espèces $U$ et $V$ est : $\\; 2V+U \\rightarrow 3V$, un $U$ et deux $V$ sont utilisés pour créer trois $V$ d'où les termes en $uv^2$ dans les deux équations différentielles, qui est retiré pour l'espèce $U$ et ajouté pour l'espèce $V$. En effet, si on considère que la réaction chimique est un processus élémentaire, la loi de van 't Hooft nous permet d'approximer la vitesse de la réaction $a U + b V \\rightarrow c W$ par $\\; vit=k \\; u^a \\; v^b$ (où $k$ est une constante et $u$,$v$ les concentrations initiales de $U$,$V$).\n",
    "\n",
    "D'autre part, afin de garantir que la réaction se fasse continûment, il faut avoir une \"source de matière\" avec une production constante de l'espèce $U$ et une élimination constante de l'espèce $V$ (sinon le processus arriverait vite à terme en transformant chaque $U$ en $V$ - transformation nette). Les derniers termes dans les équations sont les taux de production et d'élimination respectivement : $F(1-u)$ augmente la concentration en espèce $U$ alors que le terme $-(F+k)v$ diminue la concentration en espèce $V$.\n",
    "\n",
    "Les valeurs des constantes $F$ et $k$ ont une influence sur la solution du problème, on en traitera dans la [partie 3](#PARTIE-3)."
   ]
  },
  {
   "cell_type": "markdown",
   "metadata": {},
   "source": [
    "[retour à la table des matières](#Table-des-matières)"
   ]
  },
  {
   "cell_type": "markdown",
   "metadata": {},
   "source": [
    "## 1.2 La discrétisation"
   ]
  },
  {
   "cell_type": "markdown",
   "metadata": {},
   "source": [
    "Pour résoudre numériquement ce problème, nous allons utilisé le schéma *forward-time/central-space* pour l'équation différentielle en deux dimensions décrite ci-dessus. Nous utiliserons la notation suivante $u_{i,j}^n$ où les indices $i$, $j$ et $n$ désigneront respectivement la discrétisation selon la dimension spatiale $x$, la dimension spatiale $y$ et la dimension temporelle $t$.\n",
    "\n",
    "\\begin{equation}\n",
    "u^{n+1}_{i,j}= u^n_{i,j} + \\Delta t \\left( \\frac{D_u}{\\Delta x^2} (u^n_{i+1, j} - 2u^n_{i,j} + u^n_{i-1,j}) + \\frac{D_u}{\\Delta y^2} (u^n_{i, j+1} - 2u^n_{i,j} + u^n_{i,j-1}) - u^n_{i,j}(v^n_{i,j})^2 + F(1- u^n_{i,j})\\right)\n",
    "\\end{equation}\n",
    "\n",
    "\\begin{equation}\n",
    "v^{n+1}_{i,j}= v^n_{i,j} + \\Delta t \\left( \\frac{D_v}{\\Delta x^2} (v^n_{i+1, j} - 2v^n_{i,j} + v^n_{i-1,j}) + \\frac{D_v}{\\Delta y^2} (v^n_{i, j+1} - 2v^n_{i,j} + v^n_{i,j-1}) + u^n_{i,j}(v^n_{i,j})^2 - (F+k)v^n_{i,j}\\right)\n",
    "\\end{equation}\n",
    "\n",
    "De plus pour notre problème, $\\Delta x = \\delta = \\Delta y$ ce qui simplifie notre discrétisation.\n",
    "\n",
    "Ce schéma est explicite: il utilise les données de l'étape précédente pour avancer dans le temps, et il n'y a donc que $u_{i,j}^{n+1}$ et $v_{i,j}^{n+1}$ comme inconnues."
   ]
  },
  {
   "cell_type": "markdown",
   "metadata": {},
   "source": [
    "[retour à la table des matières](#Table-des-matières)"
   ]
  },
  {
   "cell_type": "markdown",
   "metadata": {},
   "source": [
    "## 1.3 La condition de stabilité"
   ]
  },
  {
   "cell_type": "markdown",
   "metadata": {},
   "source": [
    "Le schéma *forward-time/central-space* pour l'équation de la chaleur à une dimension\n",
    "\n",
    "\\begin{equation}\n",
    "\\frac{\\partial T}{\\partial t}= \\alpha \\frac{\\partial^2 T}{\\partial x^2}\n",
    "\\end{equation}\n",
    "a la condition de stabilité : $\\alpha \\frac{\\Delta t}{\\Delta x^2}\\leq \\frac{1}{2}$.\n",
    "\n",
    "*Mais qu'en est-il à deux dimensions?*\n",
    "\n",
    "Calculons la condition de stabilité pour la discrétisation ci-dessus uniquement sur l'équation pour $u$ (celle pour $v$ se démontrant de la même façon). De plus, nous nous limitons au cas linéaire, i.e. en retirant les termes de réaction chimique ($u \\; v^2$ et $\\propto u$, $\\propto v$).\n",
    "\n",
    "\\begin{equation}\n",
    "\\frac{\\partial u}{\\partial t}= D_u \\nabla^2 u\n",
    "\\end{equation}"
   ]
  },
  {
   "cell_type": "markdown",
   "metadata": {},
   "source": [
    "On pose $u^n_{i,j}=u^n e^{ik_x x_j + ik_y y_j}$.\n",
    "\n",
    "\\begin{equation}\n",
    "u^{n+1}e^{ik_x x_j + ik_y y_j}=u^n e^{ik_x x_j + ik_y y_j}+D_u\\left[\\frac{\\Delta t}{\\Delta x^2}\\left(u^n e^{ik_x (x_j+\\Delta x) + ik_y y_j} - u^n e^{ik_x x_j + ik_y y_j} + u^n e^{ik_x (x_j-\\Delta x) + ik_y y_j}\\right) \\\\\n",
    "+ \\frac{\\Delta t}{\\Delta y^2}\\left(u^n e^{ik_x x_j + ik_y (y_j+\\Delta y)}-2 u^n e^{ik_x x_j + ik_y y_j} + u^n e^{ik_x x_j + ik_y (y_j-\\Delta y)}\\right)\\right]\n",
    "\\end{equation}\n",
    "En divisant par $e^{ik_x x_j + ik_y y_j}$ et en mettant $u^n$ en évidence,\n",
    "\n",
    "\\begin{align}\n",
    "u^{n+1}&=u^n\\left[1+D_u\\left(\\frac{\\Delta t}{\\Delta x^2}\\left(e^{ik_x \\Delta x} - 2 + e^{-ik_x \\Delta x}\\right)+\\frac{\\Delta t}{\\Delta y^2}\\left(e^{ik_y\\Delta y} - 2 + e^{-ik_y\\Delta y}\\right)\\right)\\right]\\\\\n",
    "\\text{Par itération}\\; \\Rightarrow u^{n+1}&=u^0\\left[1+D_u\\left(\\frac{\\Delta t}{\\Delta x^2}\\left(e^{ik_x \\Delta x} - 2 + e^{-ik_x \\Delta x}\\right)+\\frac{\\Delta t}{\\Delta y^2}\\left(e^{ik_y\\Delta y} - 2 + e^{-ik_y\\Delta y}\\right)\\right)\\right]^n\\\\\n",
    "\\text{Par la définition de $\\cos$}\\; \\Rightarrow u^{n+1}&=u^0\\left[1+2\\Delta t D_u\\left(\\frac{1}{\\Delta x^2}(\\cos(k_x \\Delta x)-1)+\\frac{1}{\\Delta y^2}(\\cos(k_y\\Delta y)-1)\\right)\\right]^n\n",
    "\\end{align}"
   ]
  },
  {
   "cell_type": "markdown",
   "metadata": {},
   "source": [
    "On pose maintenant $A=1+2\\Delta t D_u\\left(\\frac{1}{\\Delta x^2}(\\cos(k_x \\Delta x)-1)+\\frac{1}{\\Delta y^2}(\\cos(k_y\\Delta y)-1)\\right)$ et la condition de stabilité nous impose que $\\lvert A\\rvert \\leq 1$, en d'autres termes, $-1\\leq A \\leq 1$.\n",
    "\n",
    "\\begin{equation}\n",
    "-1 \\leq 1+2\\Delta t D_u\\left(\\frac{1}{\\Delta x^2}(\\cos(k_x \\Delta x)-1)+\\frac{1}{\\Delta y^2}(\\cos(k_y\\Delta y)-1)\\right)\\leq 1\n",
    "\\end{equation}\n",
    "\n",
    "Comme $\\cos(k_x \\Delta x)-1 \\leq 0$ et $\\cos (k_y \\Delta y)-1\\leq 0$, l'inégalité de droite est toujours respectée ($\\Delta t$ et $D_u$ $\\geq 0$) . Concentrons-nous sur l'inégalité de gauche.\n",
    "\n",
    "Si $\\cos(k_x \\Delta x)=1$ et $\\cos(k_y \\Delta y)=1$, alors l'inégalité est vérifiée.\n",
    "\n",
    "Si $\\cos(k_x \\Delta x)=1$ ou $\\cos(k_y \\Delta y)=1$, alors on a respectivement les conditions suivantes $D_u \\frac{\\Delta t}{\\Delta y^2}\\leq \\frac{1}{2}$ et $D_u \\frac{\\Delta t}{\\Delta x^2}\\leq \\frac{1}{2}$ (comme si la deuxième dimension n'intervenait pas).\n",
    "\n",
    "Considérons dans le cas où $\\cos(k_x \\Delta x)\\neq 1$ et $\\cos(k_y \\Delta y)\\neq 1$,\n",
    "\n",
    "\\begin{align}\n",
    "2D_u\\Delta t\\left(\\frac{\\cos(k_x \\Delta x)-1}{\\Delta x^2}+\\frac{\\cos(k_y \\Delta y)-1}{\\Delta y^2}\\right)&\\geq -2\\\\\n",
    "\\Rightarrow D_u\\Delta t\\left(\\frac{1-\\cos(k_x \\Delta x)}{\\Delta x^2}+\\frac{1-\\cos(k_y \\Delta y)}{\\Delta y^2}\\right)&\\leq 1\n",
    "\\end{align}\n",
    "\n",
    "Ceci étant valable $\\forall k_x$ et $\\forall k_y$, en particulier, cela est valable pour $k'_x$ et $k'_y$ tels que $1-\\cos(k'_x \\Delta x)=2$ et $1-\\cos(k'_y \\Delta y)=2$ (leurs valeurs maximales), on obtient alors\n",
    "\n",
    "\\begin{equation}\n",
    "D_u\\frac{\\Delta t}{\\Delta x^2}+D_u\\frac{\\Delta t}{\\Delta y^2}\\leq \\frac{1}{2}\n",
    "\\end{equation}\n",
    "\n",
    "une condition CFL analogue à celle à une dimension ce qui n'est pas très étonnant.\n",
    "\n",
    "Remarquons que pour $\\Delta t \\geq 0$ et $D_u \\leq 0$ , les bornes -1 et 1 interchangent leurs rôles. On peut donc écrire pour notre problème avec la même discrétisation spatiale dans les deux directions:\n",
    "\n",
    "\\begin{equation}\n",
    "\\lvert D_u \\rvert \\frac{\\Delta t}{\\delta^2} \\leq \\frac{1}{4} \\Longrightarrow \\Delta t = \\sigma \\frac{\\delta^2}{4 \\; \\lvert D_u \\rvert} \\; \\; \\text{avec } \\sigma \\leq 1\n",
    "\\end{equation}"
   ]
  },
  {
   "cell_type": "markdown",
   "metadata": {},
   "source": [
    "[retour à la table des matières](#Table-des-matières)"
   ]
  },
  {
   "cell_type": "markdown",
   "metadata": {},
   "source": [
    "## 1.4 Les conditions aux bords"
   ]
  },
  {
   "cell_type": "markdown",
   "metadata": {},
   "source": [
    "Les conditions de bord peuvent être soit périodiques, soit de Dirichlet, soit de Neumann, etc.\n",
    "\n",
    "Pour notre problème, nous nous concentrons sur des conditions de bord du type de Neumann, c'est-à-dire des conditions du type suivant :\n",
    "\n",
    "\\begin{align}\n",
    "\\left(\\frac{\\partial f}{\\partial x}\\right)_{bord} &= q_x \\; \\text{ où $q_x$ est une fonction de y définie uniquement au bord en x} \\\\\n",
    "\\left(\\frac{\\partial f}{\\partial y}\\right)_{bord} &= q_y \\; \\text{ où $q_y$ est une fonction de x définie uniquement au bord en y}\n",
    "\\end{align}\n",
    "\n",
    "*Mais comment la discrétiser ?*\n",
    "\n",
    "Prenons la définition de la dérivée $\\frac{d f}{d x}$ en terme de $\\lim$.\n",
    "\n",
    "\\begin{align}\n",
    "\\frac{d f}{d x}&=\\lim\\limits_{\\substack{\\Delta x \\to 0}}\\frac{f(x+\\Delta x)-f(x)}{\\Delta x}\\\\\n",
    "\\frac{d f}{d x}&=\\lim\\limits_{\\substack{\\Delta x \\to 0}}\\frac{f(x)-f(x-\\Delta x)}{\\Delta x}\n",
    "\\end{align}"
   ]
  },
  {
   "cell_type": "markdown",
   "metadata": {},
   "source": [
    "Mais laquelle choisir ? Les deux définitions sont équivalentes au sens analytique mais au sens numérique, cela a une nette différence.\n",
    "\n",
    "Ainsi la discrétisation de $\\frac{d f}{d x}$ peut être écrite comme suit pour $\\Delta x$ petit :\n",
    "\n",
    "\\begin{align}\n",
    "\\frac{d f}{d x} &\\approx \\frac{f(x+\\Delta x)-f(x)}{\\Delta x}\\\\\n",
    "\\frac{d f}{d x} &\\approx \\frac{f(x)-f(x-\\Delta x)}{\\Delta x}\n",
    "\\end{align}\n",
    "\n",
    "*Dans notre cas présent*\n",
    "\n",
    "Nous voulons discrétiser la condition de Neumann ci-dessus.\n",
    "\n",
    "\\begin{align}\n",
    "\\left(\\frac{\\partial f}{\\partial x}\\right)_{bord}&=q_x \\\\\n",
    "\\text{ou}\\; &\\Rightarrow \\frac{f(x_{bord}+\\Delta x)-f(x_{bord})}{\\Delta x} \\approx q_x\\\\\n",
    "\\text{ou}\\; &\\Rightarrow \\frac{f(x_{bord})-f(x_{bord}-\\Delta x)}{\\Delta x} \\approx q_x\n",
    "\\end{align}\n",
    "\n",
    "où $x_{bord}$ est le point $x$ au bord. La première discrétisation est pour un point $x_{bord}$ sur le bord gauche du domaine alors que la deuxième est pour un point $x_{bord}$ sur le bord droit du domaine."
   ]
  },
  {
   "cell_type": "markdown",
   "metadata": {},
   "source": [
    "*Pour notre problème de la bactérie*\n",
    "\n",
    "Pour notre problème, nous utilisons une condition de Neumann nulle à tous les bords du domaine carré `NxN`, aux bords inférieur en `(0,j)`, supérieur en `(N,j)`, gauche en `(i,0)` et droit en `(i,N)` - où les indices `i` et `j` correspondent respectivement la discrétisation selon x et selon y.\n",
    "\n",
    "La condition de Neumann nulle correspond à un flux ($q_x$ et $q_y$) nul aux bords dans les deux directions.\n",
    "\n",
    "Nous avons donc les discrétisations suivantes, uniquement dans le cas des bords inférieur et supérieur, les autres étant les mêmes en permutant `i`et `j`.\n",
    "\n",
    "\\begin{align}\n",
    "\\frac{T_{1,j}-T_{0,j}}{\\Delta x} &=0 \\Rightarrow T_{0,j}=T_{1,j}\\\\\n",
    "\\frac{T_{N,j}-T_{N-1,j}}{\\Delta x} &=0 \\Rightarrow T_{N,j}=T_{N-1,j}\n",
    "\\end{align}"
   ]
  },
  {
   "cell_type": "markdown",
   "metadata": {},
   "source": [
    "[retour à la table des matières](#Table-des-matières)"
   ]
  },
  {
   "cell_type": "markdown",
   "metadata": {},
   "source": [
    "## 1.5 Les paramètres de prolifération"
   ]
  },
  {
   "cell_type": "markdown",
   "metadata": {},
   "source": [
    "Nous importons ici les bibliothèques, ainsi que les tableaux de données des conditions initiales U et V pour les concentrations en chaque composante."
   ]
  },
  {
   "cell_type": "code",
   "execution_count": null,
   "metadata": {
    "collapsed": true
   },
   "outputs": [],
   "source": [
    "import numpy\n",
    "from matplotlib import pyplot\n",
    "import matplotlib.cm as cm\n",
    "from JSAnimation.IPython_display import display_animation\n",
    "from matplotlib import animation\n",
    "\n",
    "%matplotlib inline\n",
    "uvinitial = numpy.load('uvinitial.npz')\n",
    "U = uvinitial['U']\n",
    "V = uvinitial['V']"
   ]
  },
  {
   "cell_type": "markdown",
   "metadata": {},
   "source": [
    "* Le phénomène diffusif nécessite la définition de paramètres propres à l'équation physique. Ces paramètres sont très sensibles, et de petites variations changent du tout au tout le résultat de la diffusion (partie 2).\n",
    "* Le phénomène se passe sur une grille d'espace carrée de dimension L, contenant _n_ points séparés de _dh_ (équivalent du $\\delta$ des points 2) et 3) ).\n",
    "* L'intervalle total de temps est de _T_, et $\\Delta t$ est fixé par une CFL avec $\\sigma = 0.9 < 1$.\n",
    "\n",
    "NB: La CFL dérivée ci-dessus est utilisée, mais comme elle doit être valable simultanément pour les deux équations en $u$ et en $v$, il faut prendre la plus contraignante des deux. C'est-à-dire la plus petite, c'est-à-dire celle avec le plus grand coefficient de diffusion (d'où le _max_ dans la CFL explicitée ci-dessous)."
   ]
  },
  {
   "cell_type": "markdown",
   "metadata": {},
   "source": [
    "Les conditions qui nous sont imposées pour résoudre le problème sont représentées par les paramètres suivants:"
   ]
  },
  {
   "cell_type": "code",
   "execution_count": null,
   "metadata": {
    "collapsed": true
   },
   "outputs": [],
   "source": [
    "# Diffusion\n",
    "Du, Dv, F, k = 0.00016, 0.00008, 0.035, 0.065 # Bacteria 1\n",
    "\n",
    "# Espace\n",
    "L=5\n",
    "n = 192\n",
    "dh = L/(n-1)\n",
    "\n",
    "# Temps\n",
    "T = 8000\n",
    "sigma=0.9\n",
    "dt = sigma * dh**2 / (4*max(Du,Dv))\n",
    "nt = int(T/dt)"
   ]
  },
  {
   "cell_type": "markdown",
   "metadata": {},
   "source": [
    "Remarquons que les paramètres employés permettront de représenter la prolifération bactérienne (décomposition mitotique). Ceci peut se comprendre avec le raisonnement suivant:\n",
    "\n",
    "* Initialement, certaines zones sont composées uniquement de _v_ = bactérie. Le reste avec _u_ = milieu de prolifération.\n",
    "* Immédiatement, des cellules se forment qui représentent chacune une bactérie. Chaque bactérie a la même taille, et cette taille ne peut pas augmenter.\n",
    "* Lorsqu'une bactérie est en contact avec le milieu, elle s'en sert pour réagir et produire plus de _v_ (= elle devrait grandir). Mais comme sa taille est contrainte, à partir d'une concentration critique en _v_, la bactérie va devoir se séparer en deux entités de même taille.\n",
    "* Si deux bactéries sont côte à côte, elles ne peuvent pas se dupliquer car il n'y a pas de substrat suffisant pour que la réaction ait lieu.\n",
    "* L'impression de bousculade des cellules s'explique bien si on voit la bousculade comme ceci:\n",
    "    \n",
    "    1. Une cellule mange l'environnement proche de sa voisine.\n",
    "    2. Pour conserver son volume, elle va devoir elle-même manger dans une direction de libre.\n",
    "    3. On a donc l'impression que la première pousse l'autre vers le côté libre.\n",
    "    4. S'il n'y a pas de côté de libre, un équilibre se forme et plus rien ne bouge.\n",
    "\n",
    "\n",
    "* L'ajustement des paramètres de modération _k_ et _F_ évite la prolifération presque instantanée de la bactérie (croissance exponentielle de la population s'il n'y a pas de contrainte). Ils régulent la vitesse à laquelle la bactérie peut manger son environnement pour se reproduire."
   ]
  },
  {
   "cell_type": "markdown",
   "metadata": {},
   "source": [
    "[retour à la table des matières](#Table-des-matières)"
   ]
  },
  {
   "cell_type": "markdown",
   "metadata": {},
   "source": [
    "## 1.6 La fonction de diffusion"
   ]
  },
  {
   "cell_type": "markdown",
   "metadata": {},
   "source": [
    "Pour répondre aux questions, nous n'avons besoin que de l'état final de la prolifération. La boucle _for_ ne stockera donc aucun tableau intermédiaire.\n",
    "\n",
    "Cette boucle permet d'avancer dans le temps (_nt_ points) avec:\n",
    "\n",
    "1. La réutilisation du domaine entier de l'étape précédente => on copie les tableaux de stockage temporaire U et V.\n",
    "0. Chaque équation est discrétisée comme vu [précédemment](#1.2-La-discrétisation). Comme il s'agit de deux équations couplées, _u_ et _v_ doivent être calculés simultanément (au sens de la discrétisation temporelle).\n",
    "0. Les conditions de Neumann sont de flux nul à travers les 4 bords du carré (0,y) (L,y) (x,0) (x,L). Et ce pour _u_ ET _v_ !"
   ]
  },
  {
   "cell_type": "code",
   "execution_count": null,
   "metadata": {
    "collapsed": true
   },
   "outputs": [],
   "source": [
    "def bacteria(nt, dt, dh, Du, Dv, F, k, U, V):\n",
    "   \n",
    "    for i in range(nt):\n",
    "        Un = U.copy()\n",
    "        Vn = V.copy()\n",
    "        \n",
    "        #Discrétisation FTCS\n",
    "        U[1:-1,1:-1] = Un[1:-1,1:-1] + Du *\\\n",
    "            (dt/dh**2 * (Un[2:,1:-1] - 2*Un[1:-1,1:-1] + Un[:-2,1:-1]) +\\\n",
    "             dt/dh**2 * (Un[1:-1,2:] - 2*Un[1:-1,1:-1] + Un[1:-1,:-2])) +\\\n",
    "            dt*(-Un[1:-1,1:-1]*Vn[1:-1,1:-1]**2 + F*(1-Un[1:-1,1:-1]))\n",
    "        V[1:-1,1:-1] = Vn[1:-1,1:-1] + Dv *\\\n",
    "            (dt/dh**2 * (Vn[2:,1:-1] - 2*Vn[1:-1,1:-1] + Vn[:-2,1:-1]) +\\\n",
    "             dt/dh**2 * (Vn[1:-1,2:] - 2*Vn[1:-1,1:-1] + Vn[1:-1,:-2])) +\\\n",
    "            dt*(Un[1:-1,1:-1]*Vn[1:-1,1:-1]**2 - (F+k)*Vn[1:-1,1:-1])\n",
    "  \n",
    "        # Conditions de Neumann\n",
    "        U[-1,:] = U[-2,:]\n",
    "        U[:,-1] = U[:,-2]\n",
    "        U[0,:] = U[1,:]\n",
    "        U[:,0] = U[:,1]\n",
    "        \n",
    "        V[-1,:] = V[-2,:]\n",
    "        V[:,-1] = V[:,-2]\n",
    "        V[0,:] = V[1,:]\n",
    "        V[:,0] = V[:,1]\n",
    "    \n",
    "    return U,V"
   ]
  },
  {
   "cell_type": "markdown",
   "metadata": {},
   "source": [
    "La fonction renvoie les deux derniers tableaux de _u_ et _v_ qu'elle a calculés (_i=nt-1_). Nous avons donc bien l'état de prolifération à T=nt.dt"
   ]
  },
  {
   "cell_type": "code",
   "execution_count": null,
   "metadata": {
    "collapsed": false
   },
   "outputs": [],
   "source": [
    "dt*nt"
   ]
  },
  {
   "cell_type": "markdown",
   "metadata": {},
   "source": [
    "Ce qui correspond à T=8000 s, surtout si on sait à quel point la diffusion change peu entre deux pas lorsque i > 100 ."
   ]
  },
  {
   "cell_type": "markdown",
   "metadata": {},
   "source": [
    "[retour à la table des matières](#Table-des-matières)"
   ]
  },
  {
   "cell_type": "markdown",
   "metadata": {},
   "source": [
    "## 1.7 Les résultats"
   ]
  },
  {
   "cell_type": "markdown",
   "metadata": {},
   "source": [
    "Il ne reste plus qu'à évaluer la fonctions pour nos paramètres, et à attribuer un nom aux deux tableaux générés par celle-ci."
   ]
  },
  {
   "cell_type": "code",
   "execution_count": null,
   "metadata": {
    "collapsed": false
   },
   "outputs": [],
   "source": [
    "Uf,Vf=bacteria(nt, dt, dh, Du, Dv, F, k, U.copy(), V.copy())"
   ]
  },
  {
   "cell_type": "markdown",
   "metadata": {},
   "source": [
    "Si on veut voir les deux situations extrêmes à t=0 et à t=T, voici les deux graphiques de _u_.\n",
    "\n",
    "NB: _v_ a l'allure du contraste bleu-rouge de _u_ même s'il n'est pas exactement son contraire. C'est logique puisque les deux équations ne sont **pas** invariantes par inversion $u \\leftrightarrow v$ ."
   ]
  },
  {
   "cell_type": "code",
   "execution_count": null,
   "metadata": {
    "collapsed": false
   },
   "outputs": [],
   "source": [
    "fig = pyplot.figure(figsize=(8,5))\n",
    "pyplot.subplot(121) # cette ligne sert à régler les tailles et positionnements des images\n",
    "pyplot.imshow(U, cmap = cm.RdBu)\n",
    "pyplot.xticks([]), pyplot.yticks([]);\n",
    "pyplot.subplot(122)\n",
    "pyplot.imshow(Uf, cmap = cm.RdBu)\n",
    "pyplot.xticks([]), pyplot.yticks([]);"
   ]
  },
  {
   "cell_type": "markdown",
   "metadata": {},
   "source": [
    "On reconnait les petites bactéries attendues qui ont eu suffisamment de temps pour remplir tout l'espace à leur disposition: on peut prédire d'avance que le système n'évoluera plus, sinon avec de faibles fluctuations locales."
   ]
  },
  {
   "cell_type": "markdown",
   "metadata": {},
   "source": [
    "** Les réponses demandées dans le travail sont: **"
   ]
  },
  {
   "cell_type": "code",
   "execution_count": null,
   "metadata": {
    "collapsed": false
   },
   "outputs": [],
   "source": [
    "w=Uf[100,::40]\n",
    "for i in range(5):\n",
    "    print(\"Le chiffre {:.0f} est\".format(i+1),round(w[i],4))"
   ]
  },
  {
   "cell_type": "markdown",
   "metadata": {},
   "source": [
    "NB: Le petit bout de code en première ligne sert à renvoyer le tableau de valeurs de Uf[100,i] avec _i_ de 0 à _n_ par pas de 40 (comme n=192, on a 5 valeurs)."
   ]
  },
  {
   "cell_type": "markdown",
   "metadata": {},
   "source": [
    "[retour à la table des matières](#Table-des-matières)"
   ]
  },
  {
   "cell_type": "markdown",
   "metadata": {},
   "source": [
    "# PARTIE 2 "
   ]
  },
  {
   "cell_type": "markdown",
   "metadata": {},
   "source": [
    "Il est maintenant temps de se pencher sur la partie la plus intéressante de la diffusion: l'instabilité par renversement dans le temps!\n",
    "\n",
    "\n",
    "Voici notre équation de diffusion linéarisée: $\\frac{\\partial u}{\\partial t}= D_u \\nabla^2 u$\n",
    "\n",
    "Il s'agit d'une équation parabolique, du premier ordre dans le temps, et à cause de cela, elle n'est pas symétrique par renversement du temps. Ce constat est d'une importance cruciale puisque la plus grande partie des équations de la physique sont invariantes par le changement de variable $t \\mapsto -t$ (équations de Maxwell, de la mécanique quantique, statistique, relativité générale et restreinte etc.).\n",
    "\n",
    "a) Nous allons d'abord étayer l'invariance $t \\mapsto -t$ de la physique en général, en le montrant en particulier pour l'équation de convection utilisée dans le module 2 sur le traffic.\n",
    "\n",
    "b) Ensuite nous constaterons _de visu_ les dégâts numériques d'une diffusion à contresens du temps."
   ]
  },
  {
   "cell_type": "markdown",
   "metadata": {},
   "source": [
    "## 2.1 En remontant le traffic..."
   ]
  },
  {
   "cell_type": "markdown",
   "metadata": {},
   "source": [
    "Les équations utilisées dans le module 2 ne font intervenir qu'une vitesse positive pour la propagation. Il y est d'ailleurs bien mentionné qu'une vitesse négative rend la propagation instable.\n",
    "\n",
    "Cette instabilité est purement numérique.\n",
    "\n",
    "D'ailleurs, le schéma de Lax-Friedrich (LFS) apporte une solution en stabilisant l'évolution pour les deux sens de propagation.\n",
    "\n",
    "En fait, la symétrie introduite par LFS dans le temps est conceptuellement identique à un schéma FTCS d'Euler, **mais** avec l'ajout d'un terme diffusif!\n",
    "\n",
    "Celui-ci à l'inconvénient d'amortir considérablement les inhomogénéités, de sorte qu'une évolution longue tendra vers une répartition uniforme. *Par contre*, il a l'inestimable avantage de lisser les fluctuations locales, permettant la propagation dans les deux sens. Ce sont deux facettes du même phénomène de diffusion ***numérique***."
   ]
  },
  {
   "cell_type": "markdown",
   "metadata": {},
   "source": [
    "Montrons ici l'équivalence $LFS \\leftrightarrow FTCS+diffusion$ :\n",
    "\n",
    "\\begin{align}\n",
    "\\text{Pour le schéma LFS}\\; \\Rightarrow \\; \\frac{\\partial \\rho}{\\partial t}&=-\\frac{\\partial F}{\\partial x}\\;\\text{où}\\; F=v_{max} \\rho\\left(1-\\frac{\\rho}{\\rho_{max}}\\right)\\\\\n",
    "\\frac{\\rho_i^{n+1}-\\frac{1}{2}(\\rho^n_{i+1}+\\rho^n_{i-1})}{\\Delta t} &= -\\frac{F^n_{i+1}-F^n_{i-1}}{2 \\Delta x}\\\\\n",
    "\\text{Pour le schéma FTCS}\\;\\Rightarrow\\;\\frac{\\partial \\rho}{\\partial t}&=-\\frac{\\partial F}{\\partial x}+\\nu \\frac{\\partial^2 \\rho}{\\partial x^2}\\\\\n",
    "\\frac{\\rho_i^{n+1}-\\rho^n_{i}}{\\Delta t} &= -\\frac{F^n_{i+1}-F^n_{i-1}}{2 \\Delta x}+\\nu\\left(\\frac{\\rho_{i+1}^n-2\\rho_i^n+\\rho_{i-1}^n}{\\Delta x^2}\\right)\n",
    "\\end{align}"
   ]
  },
  {
   "cell_type": "markdown",
   "metadata": {},
   "source": [
    "Si on isole les termes en $\\rho^{n+1}_i$ , on remarque que les deux expressions sont quasiment identiques, à quelques facteurs numériques près.\n",
    "\n",
    "\\begin{equation}\\rho_i^{n+1} = \\frac{1}{2}(\\rho^n_{i+1}+\\rho^n_{i-1}) - \\Delta t \\frac{\\partial F}{\\partial x} \\;\\;\\;\\;\\text{(LFS)}\\end{equation}\n",
    "\n",
    "\\begin{align}\n",
    "\\rho^{n+1}_i &= \\rho^n_i - \\Delta t \\frac{\\partial F}{\\partial x}+\\nu\\Delta t\\left(\\frac{\\rho_{i+1}^n-2\\rho_i^n+\\rho_{i-1}^n}{\\Delta x^2}\\right) \\;\\;\\;\\; \\text{(FTCS)}\\\\\n",
    "\\Leftrightarrow \\; \\rho^{n+1}_i &= - \\Delta t \\frac{\\partial F}{\\partial x} +\\left(\\frac{\\Delta x^2}{2\\nu\\Delta t}2\\rho_i^n+\\rho_{i+1}^n-2\\rho_i^n+\\rho_{i-1}^n\\right)\\frac{\\nu\\Delta t}{\\Delta x^2}\n",
    "\\end{align}\n",
    "\n",
    "Dans le cas particulier où $\\frac{\\nu\\Delta t}{\\Delta x^2}=\\frac{1}{2}$, on retrouve précisément le schéma de LFS. $\\square$"
   ]
  },
  {
   "cell_type": "markdown",
   "metadata": {},
   "source": [
    "Pour remonter le temps, toutes les variables dépendant *directement* du temps doivent changer de signe: vitesse, accélération, diffusion ($<\\vec{x}^2>=6Dt$). Attention que $\\Delta t$ ne va pas changer puisqu'il s'agit d'un paramètre construisant la grille d'espace-temps: il n'a pas de sens physique propre Il détermine un sens d'écoulement du temps, et ce sont les autres grandeurs qui doivent s'y référer."
   ]
  },
  {
   "cell_type": "markdown",
   "metadata": {},
   "source": [
    "La dissipation *numérique* ***doit*** se poursuivre pour lisser la courbe. Si on change le signe devant la moyenne temporelle de LFS, le facteur dissipatif (donc équivalent à celui de FTCS) devient négatif, ce qui entraîne une divergence pure et simple pour l'équation convective.\n",
    "\n",
    "Dès lors, la vitesse est le seul paramètre à devoir être inversé.\n",
    "On n'oubliera pas non plus d'adapter la manière dont la condition périodique aux bords doit réagir."
   ]
  },
  {
   "cell_type": "markdown",
   "metadata": {},
   "source": [
    "** Fonction de renversement dans le temps**\n",
    "\n",
    "La fonction qui suit prend deux variables: le sens d'écoulement du temps (+1 ou -1) ainsi que les données initiales de l'évolution.\n",
    "\n",
    "Toutes les fonctions utilisées sont exactement équivalentes (aux paramètres près) à celles utilisées dans els notebook précédents, à l'exception des endroits indiqués par un #."
   ]
  },
  {
   "cell_type": "code",
   "execution_count": null,
   "metadata": {
    "collapsed": true
   },
   "outputs": [],
   "source": [
    "import numpy                       \n",
    "from matplotlib import pyplot                 \n",
    "%matplotlib inline\n",
    "from matplotlib import rcParams\n",
    "rcParams['font.family'] = 'serif'\n",
    "rcParams['font.size'] = 16\n",
    "from JSAnimation.IPython_display import display_animation\n",
    "from matplotlib import animation"
   ]
  },
  {
   "cell_type": "code",
   "execution_count": null,
   "metadata": {
    "collapsed": true
   },
   "outputs": [],
   "source": [
    "def renversementA(signe,rho0):\n",
    "    L = 11\n",
    "    nx=51\n",
    "    dx = L/(nx -1)\n",
    "    vmax=80\n",
    "    sigma=0.9                        # CFL de LFS\n",
    "    dt=sigma*dx/vmax\n",
    "    rhomax=250\n",
    "    tmax=.09\n",
    "    nt=int(tmax/dt)+1\n",
    "    anim=numpy.asarray([[1 for i in range(nx)] for j in range(nt)])\n",
    "    rhofinal=numpy.zeros_like(rho0)    # ajouté pour stocker une donnée supplémentaire\n",
    "\n",
    "    def animtraffic(vmax,rho0,tmax): # schéma adapté en LFS\n",
    "    \n",
    "        L = 11\n",
    "        rhomax = 250\n",
    "        nx = 51\n",
    "        dx = L/(nx -1)\n",
    "        sigma=0.9                    #CFL de LFS\n",
    "        dt=sigma*dx/abs(vmax)        \n",
    "        nt = int(tmax/dt)+1\n",
    "        x = numpy.linspace(0,L,nx)\n",
    "        rho=rho0.copy()\n",
    "        animrho=[[0 for i in range(nx)] for j in range(nt)]\n",
    "        animrho[0]=rho.copy()\n",
    "    \n",
    "        if signe==1:\n",
    "            for n in range(1, nt):\n",
    "                rhon = rho.copy()\n",
    "                rho[1:-1] = 1/2*(rhon[2:]+rhon[:-2])\\\n",
    "                                    -vmax*dt/(2*dx)*(rhon[2:]*(1-rhon[2:]/rhomax)\\\n",
    "                                    -rhon[:-2]*(1-rhon[:-2]/rhomax))\n",
    "                rho[-1]=rho[-2]                        \n",
    "                rho[0]=rho[-1]\n",
    "                animrho[n]=rho.copy()\n",
    "\n",
    "        else: # seul vmax est inversé, et les conditions aux bords aussi, parallèlement\n",
    "            for n in range(1, nt):\n",
    "                rhon = rho.copy()\n",
    "                rho[1:-1] = 1/2*(rhon[2:]+rhon[:-2])\\\n",
    "                                    +vmax*dt/(2*dx)*(rhon[2:]*(1-rhon[2:]/rhomax)\\\n",
    "                                    -rhon[:-2]*(1-rhon[:-2]/rhomax))\n",
    "                rho[0]=rho[1]\n",
    "                rho[-1]=rho[0]\n",
    "                animrho[n]=rho.copy()\n",
    "    \n",
    "        return animrho\n",
    "\n",
    "    def animationdensite(vmax,rho0,tmax):\n",
    "        L=11\n",
    "        nx=51\n",
    "        sigma=0.9                 #CFL de LFS\n",
    "        dt=sigma*dx/vmax        \n",
    "        nt = int(tmax/dt)+1\n",
    "        x=numpy.linspace(0,L,nx)\n",
    "        animrho=animtraffic(vmax,rho0,tmax)\n",
    "        rhofinal=numpy.zeros_like(animrho[0])  # on stocke le dernier (nt) tableau de données\n",
    "        rhofinal=animrho[nt-1]\n",
    "\n",
    "        fig=pyplot.figure(figsize=(8,5))\n",
    "        ax=pyplot.axes(xlim=(0,11),ylim=(0,55),xlabel=\"Position le long de la route (km)\"\\\n",
    "                       ,ylabel=\"Densité en voitures/km\")\n",
    "        line=ax.plot([],[],ls='--')[0]\n",
    "    \n",
    "        def anim(i):\n",
    "            y=animrho[i]\n",
    "            line.set_data(x,y)\n",
    "    \n",
    "        return animation.FuncAnimation(fig,anim,frames=nt,interval=100),rhofinal\n",
    "\n",
    "    bv,rhofinal=animationdensite(vmax,rho0,tmax)\n",
    "    return bv,rhofinal"
   ]
  },
  {
   "cell_type": "markdown",
   "metadata": {},
   "source": [
    "Créons maintenant notre densité initiale en signal carré: _rho0_ ; et faisons évoluer le tout dans le sens normal du temps (+1)."
   ]
  },
  {
   "cell_type": "code",
   "execution_count": null,
   "metadata": {
    "collapsed": false
   },
   "outputs": [],
   "source": [
    "nx=51\n",
    "rho0 = numpy.ones(nx)*10\n",
    "rho0[10:20] = 50\n",
    "bv,rhofinal=renversementA(1,rho0)\n",
    "\n",
    "display_animation(bv, default_mode='once')"
   ]
  },
  {
   "cell_type": "markdown",
   "metadata": {},
   "source": [
    "Le constat est concluant: erreur du premier ordre de LFS (escalier), dissipation excessive (lissage des discontinuités et abaissement du maximum accompagné d'un étalement du pic initial).\n",
    "\n",
    "Nous avons stocké le dernier tableau de données puisque le retour dans le temps devra se faire à partir de celui-ci. Nous n'avons plus qu'à inverser le temps (-1)."
   ]
  },
  {
   "cell_type": "code",
   "execution_count": null,
   "metadata": {
    "collapsed": false
   },
   "outputs": [],
   "source": [
    "bv=renversementA(-1,rhofinal.copy())[0]\n",
    "display_animation(bv, default_mode='once')"
   ]
  },
  {
   "cell_type": "markdown",
   "metadata": {},
   "source": [
    "Et nous vérifions bien que \n",
    "\n",
    "* le signal revient vers sa position initiale entre 2 et 4 km (vitesse négative acceptée)\n",
    "* le signal n'a pas divergé (stabilité par diffusion des fluctuations)\n",
    "* le signal s'est encore atténué (maintien de la diffusion numérique)\n",
    "\n",
    "L'équation de convection est donc bien invariante par renversement dans le temps !!"
   ]
  },
  {
   "cell_type": "markdown",
   "metadata": {},
   "source": [
    "[retour à la table des matières](#Table-des-matières)"
   ]
  },
  {
   "cell_type": "markdown",
   "metadata": {},
   "source": [
    "## 2.2 La diffusion inverse"
   ]
  },
  {
   "cell_type": "markdown",
   "metadata": {},
   "source": [
    "### *Que se passe-t-il  si on procède pareillement avec notre équation de diffusion?*\n",
    "\n",
    "Nous définissons une fonction qui, comme la précédente, va stocker chaque intération dans un tableau externe. Celui-ci sera facile à appeler pour l'animation.\n",
    "\n",
    "Elle prend un _signe_ pour le sens d'évolution du temps, un coefficient d'échelle _alpha_ utile pour la mise en forme de l'animation, et les tableaux de conditions initiales.\n",
    "\n",
    "Si $signe = 1$, alors $alpha=1$ : ce sont les paramètres d'avancement normal. Le temps T utilisé est adapté à l'évolution +1.\n",
    "\n",
    "Si $signe = -1$, alors $alpha=0.01$ : comme l'évolution -1 varie sur une beaucoup plus petite échelle de temps, l'animation ne donnera quelque chose d'appréciable qu'en réduisant l'intervalle de temps à considérer (d'un facteur 100)."
   ]
  },
  {
   "cell_type": "markdown",
   "metadata": {},
   "source": [
    "** Quels signes doivent changer ?**\n",
    "\n",
    "La diffusion ne doit pas être affectée par le renversement dans le temps; de la même manière que l'équivalence $LFS \\leftrightarrow FTCS+diffusion$ ne change pas le signe de la diffusion.  \n",
    "\n",
    "Ensuite, si on voulait vraiment inverser toute la relation, on devrait changer aussi le signe devant les termes non-linéaires en $u \\; v^2$ ; et celui des coefficients _F_ et _k_ pour la partie linéaire.\n",
    "\n",
    "C'est assez difficile d'imaginer qu'on puisse inverser ces coefficients puisqu'ils sont d'origine statistique et découlent de la moyenne quadratique de la vitesse carrée, mais justement on veut reproduire ces problèmes justifiés théoriquement.\n",
    "\n",
    "En changeant les signes des éléments propres à la réaction, nous modélisons la réaction à rebourds, ce qui est encore différent d'inverser la relation!"
   ]
  },
  {
   "cell_type": "markdown",
   "metadata": {},
   "source": [
    "** Et pour les conditions aux bords? **\n",
    "\n",
    "Pour les conditions de Dirichlet (périodiques) utilisées pour le traffic, nous avons dû switcher leur ordre pour tenir compte du retour dans le temps.\n",
    "\n",
    "Pour les conditions de Neumann (nulles), l'inversion dans le temps ne les changent pas. _a priori_ comme il s'agit d'un flux, son sens devrait s'inverser, et effectivement il le fait. Seulement comme il est nul, ça ne se voit pas.\n",
    "\n",
    "=> Les conditions de Neumann ne changeront pas."
   ]
  },
  {
   "cell_type": "code",
   "execution_count": null,
   "metadata": {
    "collapsed": false
   },
   "outputs": [],
   "source": [
    "def renversementB(signe,alpha,U,V):\n",
    "\n",
    "    n = 192\n",
    "    Du, Dv, F, k = 0.00016, 0.00008, signe*0.035, signe*0.065 # Bacteria 1\n",
    "    dh = 5./(n-1)\n",
    "    T = 8000\n",
    "    dt = .9 * dh**2 / (4*max(Du,Dv))\n",
    "    nt = int(T/dt)    \n",
    "    \n",
    "    vecteurU=numpy.empty(int(nt/100),dtype=numpy.ndarray) # vecteurs de stockage temporel\n",
    "    vecteurV=numpy.empty(int(nt/100),dtype=numpy.ndarray)\n",
    "    for i in range(int(nt/100)):\n",
    "        vecteurU[i]=numpy.zeros((n,n))\n",
    "        vecteurV[i]=numpy.zeros((n,n))\n",
    "    \n",
    "    for i in range(int(nt*alpha)):\n",
    "        Un = U.copy()\n",
    "        Vn = V.copy()\n",
    "        U[1:-1,1:-1] = Un[1:-1,1:-1] + Du *\\\n",
    "            (dt/dh**2 * (Un[2:,1:-1] - 2*Un[1:-1,1:-1] + Un[:-2,1:-1]) +\\\n",
    "             dt/dh**2 * (Un[1:-1,2:] - 2*Un[1:-1,1:-1] + Un[1:-1,:-2])) +\\\n",
    "            dt*(-signe*Un[1:-1,1:-1]*Vn[1:-1,1:-1]**2 + F*(1-Un[1:-1,1:-1]))  #signe\n",
    "        V[1:-1,1:-1] = Vn[1:-1,1:-1] + Dv *\\\n",
    "            (dt/dh**2 * (Vn[2:,1:-1] - 2*Vn[1:-1,1:-1] + Vn[:-2,1:-1]) +\\\n",
    "             dt/dh**2 * (Vn[1:-1,2:] - 2*Vn[1:-1,1:-1] + Vn[1:-1,:-2])) +\\\n",
    "            dt*(signe*Un[1:-1,1:-1]*Vn[1:-1,1:-1]**2 - (F+k)*Vn[1:-1,1:-1])   #signe\n",
    "            \n",
    "        # Conditions de Neumann indépendantes du sens de l'évolution\n",
    "        U[-1,:] = U[-2,:]\n",
    "        U[:,-1] = U[:,-2]\n",
    "        U[0,:] = U[1,:]\n",
    "        U[:,0] = U[:,1]\n",
    "                \n",
    "        V[-1,:] = V[-2,:]\n",
    "        V[:,-1] = V[:,-2]\n",
    "        V[0,:] = V[1,:]\n",
    "        V[:,0] = V[:,1]\n",
    "                \n",
    "        if i in numpy.arange(0,(nt-100)*alpha,100*alpha):  # contrôle du stockage\n",
    "            vecteurU[int(i/100/alpha)]=U.copy()\n",
    "            vecteurV[int(i/100/alpha)]=V.copy()\n",
    "        \n",
    "    return vecteurU,vecteurV"
   ]
  },
  {
   "cell_type": "code",
   "execution_count": null,
   "metadata": {
    "collapsed": true
   },
   "outputs": [],
   "source": [
    "uvinitial = numpy.load('uvinitial.npz')\n",
    "U = uvinitial['U']\n",
    "V = uvinitial['V']\n",
    "\n",
    "#alpha = 1 pour signe=+1\n",
    "#alpha =1/100 pour signe=-1\n",
    "\n",
    "vecteurU,vecteurV=renversementB(1,1,U.copy(),V.copy())"
   ]
  },
  {
   "cell_type": "code",
   "execution_count": null,
   "metadata": {
    "collapsed": false
   },
   "outputs": [],
   "source": [
    "fig = pyplot.figure(figsize=(8,5))\n",
    "ims=[]\n",
    "\n",
    "for i in range(int(nt/100)):\n",
    "    im=pyplot.imshow(vecteurU[i], cmap = cm.RdBu,animated=True)\n",
    "    ims.append([im])\n",
    "    \n",
    "animation.ArtistAnimation(fig, ims, interval=50,blit=True)"
   ]
  },
  {
   "cell_type": "code",
   "execution_count": null,
   "metadata": {
    "collapsed": false
   },
   "outputs": [],
   "source": [
    "#alpha = 1 pour signe=+1\n",
    "#alpha =1/100 pour signe=-1\n",
    "vecteurUinverse=renversementB(-1,.01,vecteurU[-1].copy(),vecteurV[-1].copy())[0]"
   ]
  },
  {
   "cell_type": "code",
   "execution_count": null,
   "metadata": {
    "collapsed": false
   },
   "outputs": [],
   "source": [
    "%matplotlib inline\n",
    "fig = pyplot.figure(figsize=(8,5))\n",
    "ims=[]\n",
    "\n",
    "for i in range(int(nt/100)):\n",
    "    im=pyplot.imshow(vecteurUinverse[i], cmap = cm.RdBu,animated=True)\n",
    "    ims.append([im])\n",
    "    \n",
    "animation.ArtistAnimation(fig, ims, interval=300,blit=True)"
   ]
  },
  {
   "cell_type": "markdown",
   "metadata": {},
   "source": [
    "** Stabilité numérique **\n",
    "\n",
    "Comme notre CFL nous permet d'être stable numériquement pour l'évolution, nous aurions dû observer un regroupement des cellules avec un amortissement général (comme pour le traffic). Comme on n'observe qu'un amortissement (homogénéisation des couleurs) dans un premier temps puis des perturbations très chaotiques dans la suite, la seule explication restante est l'instabilité physique même du problème!"
   ]
  },
  {
   "cell_type": "markdown",
   "metadata": {},
   "source": [
    "On remarque que l'inversion de la réaction correspond bien à la transformation nette de 1 _V_ en 1 _U_ : les cellules fusionnent mais ne se recombinent pas.\n",
    "\n",
    "L'instabilité s'observe non pas au niveau de l'image, mais au niveau de l'évolution temporelle. Les mêmes types de variations (alternance dans les couleurs) sont observées que pour la ligne de code pour le terme _instable_ (voir différents exemples dans la partie 3). Cette comparaison confirme l'instabilité physique !"
   ]
  },
  {
   "cell_type": "markdown",
   "metadata": {},
   "source": [
    "[retour à la table des matières](#Table-des-matières)"
   ]
  },
  {
   "cell_type": "markdown",
   "metadata": {},
   "source": [
    "# PARTIE 3"
   ]
  },
  {
   "cell_type": "markdown",
   "metadata": {},
   "source": [
    "Si nous changeons simplement les valeurs des paramètres, nous pouvons nous retrouver avec des figures très différentes. Les grandeurs associées doivent aussi être recalculées. Nous affichons la dernière image!"
   ]
  },
  {
   "cell_type": "code",
   "execution_count": null,
   "metadata": {
    "collapsed": false
   },
   "outputs": [],
   "source": [
    "# Diffusion\n",
    "Du, Dv, F, k = 0.00019, 0.00005, 0.060, 0.062 # Fingerprint\n",
    "\n",
    "# Espace\n",
    "L=5\n",
    "n = 192\n",
    "dh = L/(n-1)\n",
    "\n",
    "# Temps\n",
    "T = 8000\n",
    "sigma=0.9\n",
    "dt = sigma * dh**2 / (4*max(Du,Dv))\n",
    "nt = int(T/dt)\n",
    "\n",
    "Ufinger,Vfinger=bacteria(nt, dt, dh, Du, Dv, F, k, U.copy(), V.copy())\n",
    "\n",
    "fig = pyplot.figure(figsize=(8,5))\n",
    "pyplot.subplot(121) # cette ligne sert à régler les tailles et positionnements des images\n",
    "pyplot.imshow(Ufinger, cmap = cm.RdBu)\n",
    "pyplot.xticks([]), pyplot.yticks([]);"
   ]
  },
  {
   "cell_type": "markdown",
   "metadata": {},
   "source": [
    "Au lieu d'avoir le même volume pour chaque cellule, nous avons ici une régularité sur la largeur des lignes."
   ]
  },
  {
   "cell_type": "code",
   "execution_count": null,
   "metadata": {
    "collapsed": false
   },
   "outputs": [],
   "source": [
    "# Diffusion\n",
    "Du, Dv, F, k = 0.00016, 0.00008, 0.020, 0.055 # Unstable\n",
    "# Espace\n",
    "L=5\n",
    "n = 192\n",
    "dh = L/(n-1)\n",
    "\n",
    "# Temps\n",
    "T = 8000\n",
    "sigma=0.9\n",
    "dt = sigma * dh**2 / (4*max(Du,Dv))\n",
    "nt = int(T/dt)\n",
    "\n",
    "Uinstable=bacteria(nt, dt, dh, Du, Dv, F, k, U.copy(), V.copy())[0]\n",
    "\n",
    "fig = pyplot.figure(figsize=(8,5))\n",
    "pyplot.subplot(121) # cette ligne sert à régler les tailles et positionnements des images\n",
    "pyplot.imshow(Uinstable, cmap = cm.RdBu)\n",
    "pyplot.xticks([]), pyplot.yticks([]);"
   ]
  },
  {
   "cell_type": "markdown",
   "metadata": {},
   "source": [
    "Le schéma est instable car il n'aboutit à aucune figure géométrique constante. Nous avons fait évoluer le schéma pour des temps très longs, et effectivement rien ne se stabilise (fluctuations et variations des densités en permanence)."
   ]
  },
  {
   "cell_type": "markdown",
   "metadata": {},
   "source": [
    "[retour à la table des matières](#Table-des-matières)"
   ]
  },
  {
   "cell_type": "markdown",
   "metadata": {
    "collapsed": true
   },
   "source": [
    "# CONCLUSION"
   ]
  },
  {
   "cell_type": "markdown",
   "metadata": {
    "collapsed": true
   },
   "source": [
    "** Intréprétation physique**\n",
    "\n",
    "La solution numérique lorsque le temps croit correspond bien à la soluton physique, la *bactérie 1* se multiplie par la mitose et ses cellules filles se repoussent car elles ne peuvent être au même endroit en même temps. Cela se voit mathématiquement par notre discrétisation, on fait une moyenne centrale pour un point spatial $(i,j)$ en prenant en compte les points $(i-1,j)$, $(i,j)$, $(i+1,j)$, $(i,j-1)$ et $(i,j+1)$ du temps précédant, il y a donc un déplacement des concentrations $u$ et $v$ en fonction du temps dans l'espace. Enfin, les conditions de Neumann ont pour conséquence que les concentrations $u$ et $v$ aux bords varient."
   ]
  },
  {
   "cell_type": "markdown",
   "metadata": {},
   "source": [
    "** Instabilité $t \\mapsto -t$ **\n",
    "\n",
    "Bien qu'il ait été difficile de comprendre quels paramètres doivent être modifiés pour faire remonter la diffusion dans le temps, notre choix propose une solution qui montre bien l'instabilité du phénomène diffusif de manière générale.\n",
    "\n",
    "Cette difficulté d'inversion témoigne bien du caractère non physique d'un renversement du temps: un processus chimique est dirigé par la thermodynamique, et ce fameux principe d'entropie croissante. Comme ce dernier témoigne directement de l'irréversibilité de la réaction, la diffusion qui en résulte ne le sera pas non plus. Vouloir forcer le retour demande une certaine dose d'imagination, et quelques comparaisons avec notre autres schémas numériques.\n",
    "\n",
    "Si on voulait vraiment inverser le temps dans la réaction, nous aurions dû disposer d'un modèle microscopique de la réaction, ne faisant intervenir que les grandeurs de base position et impulsion. Le phénomène subissant alors la microréversibilité aurait pu retourner dans le temps sur cette échelle de longueur.\n",
    "\n",
    "Le processus étant macroscopique dans le modèle de Gray-Scott, notre diffusion est bel et bien irréversible."
   ]
  },
  {
   "cell_type": "code",
   "execution_count": null,
   "metadata": {
    "collapsed": true
   },
   "outputs": [],
   "source": []
  }
 ],
 "metadata": {
  "kernelspec": {
   "display_name": "Python 3",
   "language": "python",
   "name": "python3"
  },
  "language_info": {
   "codemirror_mode": {
    "name": "ipython",
    "version": 3
   },
   "file_extension": ".py",
   "mimetype": "text/x-python",
   "name": "python",
   "nbconvert_exporter": "python",
   "pygments_lexer": "ipython3",
   "version": "3.4.3"
  }
 },
 "nbformat": 4,
 "nbformat_minor": 0
}
